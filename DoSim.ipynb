{
 "cells": [
  {
   "cell_type": "code",
   "execution_count": 108,
   "metadata": {
    "collapsed": false
   },
   "outputs": [],
   "source": [
    "import Geometry as G\n",
    "import numpy as np\n",
    "import matplotlib.pyplot as plt"
   ]
  },
  {
   "cell_type": "code",
   "execution_count": 117,
   "metadata": {
    "collapsed": false
   },
   "outputs": [
    {
     "name": "stdout",
     "output_type": "stream",
     "text": [
      "Norm:  [  1.00000000e+00  -6.12323400e-17   6.12323400e-17]\n",
      "CoordOrigin:  [ 3.5     -1.51552  2.96   ]\n",
      "J vector:  [  6.12323400e-17   1.00000000e+00  -2.44929360e-16]\n",
      "K vector:  [  6.12323400e-17  -2.44929360e-16  -1.00000000e+00]\n"
     ]
    }
   ],
   "source": [
    "exp={'energy':64.351}\n",
    "etalimit=86/180.0*np.pi\n",
    "\n",
    "reload(G)\n",
    "sample=G.CrystalStr()\n",
    "sample.setPrim([3.61,0,0],[0,3.61,0],[0,0,3.61])\n",
    "sample.addAtom([0,0,0],29)\n",
    "sample.getRecipVec()\n",
    "sample.getGs(13)\n",
    "\n",
    "import RotRep as R\n",
    "Det1=G.Detector()\n",
    "Det1.Move(1024,2000,np.array([3.5,0,0]),R.EulerZXZ2Mat(np.array([90,90,360])/180.0*np.pi))\n",
    "Det1.Print()"
   ]
  },
  {
   "cell_type": "code",
   "execution_count": 118,
   "metadata": {
    "collapsed": false
   },
   "outputs": [],
   "source": [
    "Peaks=[]\n",
    "for g in sample.Gs:\n",
    "    res=G.frankie_angles_from_g(g,verbo=False,**exp)\n",
    "    if res['chi']>=90:\n",
    "        pass\n",
    "    elif res['eta']>etalimit:\n",
    "        pass\n",
    "    else:\n",
    "        if -90<=res['omega_a']<=90:\n",
    "            try:\n",
    "                idx=Det1.IntersectionIdx(np.array([0,0,0]),res['2Theta'],res['eta'])\n",
    "            except:\n",
    "                print g\n",
    "                print res\n",
    "            if idx!=-1:\n",
    "                Peaks.append([idx[0],idx[1],res['omega_a']])\n",
    "        if -90<=res['omega_b']<=90:\n",
    "            idx=Det1.IntersectionIdx(np.array([0,0,0]),res['2Theta'],-res['eta'])\n",
    "            if idx!=-1:\n",
    "                Peaks.append([idx[0],idx[1],res['omega_b']])"
   ]
  },
  {
   "cell_type": "code",
   "execution_count": 121,
   "metadata": {
    "collapsed": false
   },
   "outputs": [
    {
     "data": {
      "text/plain": [
       "772"
      ]
     },
     "execution_count": 121,
     "metadata": {},
     "output_type": "execute_result"
    }
   ],
   "source": [
    "len(Peaks)"
   ]
  },
  {
   "cell_type": "code",
   "execution_count": 137,
   "metadata": {
    "collapsed": false
   },
   "outputs": [
    {
     "data": {
      "image/png": "[encoded data removed]",
      "text/plain": [
       "<matplotlib.figure.Figure at 0x7f4f87d830d0>"
      ]
     },
     "metadata": {},
     "output_type": "display_data"
    }
   ],
   "source": [
    "i=179\n",
    "a=np.loadtxt('/home/fyshen13/workspace/SimStd/std{0:05d}.bin0'.format(i),delimiter=',')\n",
    "plt.scatter(2048-a[:,0],2048-a[:,1],c='b',s=40)\n",
    "tmpidx=((-90+i<=Peaks)*(Peaks<-89+i))[:,2]\n",
    "tmpPeaks=Peaks[tmpidx]\n",
    "for ii in range(len(tmpPeaks)):\n",
    "    plt.scatter(2048-tmpPeaks[ii][0],2048-tmpPeaks[ii][1],c='r',s=10)\n",
    "plt.axis('scaled')\n",
    "plt.xlim((0,2048))\n",
    "plt.ylim((0,2048))\n",
    "plt.show()"
   ]
  },
  {
   "cell_type": "code",
   "execution_count": null,
   "metadata": {
    "collapsed": true
   },
   "outputs": [],
   "source": []
  }
 ],
 "metadata": {
  "kernelspec": {
   "display_name": "Python 2",
   "language": "python",
   "name": "python2"
  },
  "language_info": {
   "codemirror_mode": {
    "name": "ipython",
    "version": 2
   },
   "file_extension": ".py",
   "mimetype": "text/x-python",
   "name": "python",
   "nbconvert_exporter": "python",
   "pygments_lexer": "ipython2",
   "version": "2.7.13"
  }
 },
 "nbformat": 4,
 "nbformat_minor": 2
}
